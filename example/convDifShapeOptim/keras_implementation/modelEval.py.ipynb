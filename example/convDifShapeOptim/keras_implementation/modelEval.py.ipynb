{
 "cells": [
  {
   "cell_type": "code",
   "id": "initial_id",
   "metadata": {
    "collapsed": true,
    "ExecuteTime": {
     "end_time": "2024-10-18T12:10:50.146403Z",
     "start_time": "2024-10-18T12:10:32.589285Z"
    }
   },
   "source": [
    "import matplotlib.pyplot as plt\n",
    "import numpy as np\n",
    "from tensorflow.keras.models import load_model"
   ],
   "outputs": [],
   "execution_count": 3
  },
  {
   "metadata": {
    "ExecuteTime": {
     "end_time": "2024-10-18T12:10:50.222434Z",
     "start_time": "2024-10-18T12:10:50.152799Z"
    }
   },
   "cell_type": "code",
   "source": "model = load_model('02_worthyResults/run_34/step_0003/14_64_32_8_1/14_64_32_8_1_000.keras')",
   "id": "97f99c6decbe2209",
   "outputs": [],
   "execution_count": 4
  },
  {
   "metadata": {
    "ExecuteTime": {
     "end_time": "2024-10-18T12:12:13.360009Z",
     "start_time": "2024-10-18T12:12:13.352099Z"
    }
   },
   "cell_type": "code",
   "source": [
    "def plot_regression_line(model, x, y):\n",
    "    plt.scatter(y, model.predict(x), color = \"m\", marker = \"o\", s = 30)\n",
    "    plt.xlabel('x')\n",
    "    plt.ylabel('y')\n",
    "    plt.show()"
   ],
   "id": "3f1e59905e536fe0",
   "outputs": [],
   "execution_count": 5
  },
  {
   "metadata": {
    "ExecuteTime": {
     "end_time": "2024-10-18T12:31:41.050825Z",
     "start_time": "2024-10-18T12:31:41.043079Z"
    }
   },
   "cell_type": "code",
   "source": [
    "def load_and_scale_data(dataDir, dataNm, nPars, nObjs):\n",
    "    \"\"\" function to load samples and scale them to be in <0,1> \"\"\"\n",
    "\n",
    "    # load samples\n",
    "    with open(dataDir + dataNm, 'r') as file:\n",
    "        data = file.readlines()\n",
    "\n",
    "    # remove annotation row\n",
    "    data = data[1::]\n",
    "\n",
    "    # convert the data to numpy array\n",
    "    dataNum = []\n",
    "    for line in data:\n",
    "        lineSpl = line.split(',')\n",
    "        row = []\n",
    "        for value in lineSpl:\n",
    "            row.append(float(value))\n",
    "        dataNum.append(row)\n",
    "\n",
    "    dataNum = np.array(dataNum)\n",
    "\n",
    "    # scale the data\n",
    "    colMins = np.min(dataNum, axis=0)\n",
    "    colMaxs = np.max(dataNum, axis=0)\n",
    "    for rowInd in range(dataNum.shape[0]):\n",
    "        for colInd in range(dataNum.shape[1]):\n",
    "            dataNum[rowInd, colInd] = (dataNum[rowInd, colInd] - colMins[colInd]) / (\n",
    "                    colMaxs[colInd] - colMins[colInd])\n",
    "\n",
    "    # split and transpose\n",
    "    source = dataNum[:, :nPars].T\n",
    "    target = dataNum[:, nPars:nPars + nObjs].T\n",
    "\n",
    "    return source, target"
   ],
   "id": "6cd92a3b96720bb9",
   "outputs": [],
   "execution_count": 6
  },
  {
   "metadata": {
    "ExecuteTime": {
     "end_time": "2024-10-18T12:42:22.525156Z",
     "start_time": "2024-10-18T12:42:22.224212Z"
    }
   },
   "cell_type": "code",
   "source": [
    "X, y = load_and_scale_data('../00_prepCFDData/14_LConv2CPLDiff4CP/', '10_platypusCFDAllSolutions.dat', 14, 1)\n",
    "\n",
    "plot_regression_line(model, X.T, y)"
   ],
   "id": "d689ada60c8de7f3",
   "outputs": [
    {
     "name": "stdout",
     "output_type": "stream",
     "text": [
      "242/242 [==============================] - 0s 363us/step\n"
     ]
    },
    {
     "data": {
      "text/plain": [
       "<Figure size 640x480 with 1 Axes>"
      ],
      "image/png": "[encoded data removed]"
     },
     "metadata": {},
     "output_type": "display_data"
    }
   ],
   "execution_count": 14
  },
  {
   "metadata": {},
   "cell_type": "code",
   "outputs": [],
   "execution_count": null,
   "source": "",
   "id": "6569b42f4c2fde99"
  }
 ],
 "metadata": {
  "kernelspec": {
   "display_name": "Python 3",
   "language": "python",
   "name": "python3"
  },
  "language_info": {
   "codemirror_mode": {
    "name": "ipython",
    "version": 2
   },
   "file_extension": ".py",
   "mimetype": "text/x-python",
   "name": "python",
   "nbconvert_exporter": "python",
   "pygments_lexer": "ipython2",
   "version": "2.7.6"
  }
 },
 "nbformat": 4,
 "nbformat_minor": 5
}
