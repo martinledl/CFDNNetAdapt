{
 "cells": [
  {
   "metadata": {
    "collapsed": true,
    "ExecuteTime": {
     "end_time": "2024-11-01T13:38:03.110088Z",
     "start_time": "2024-11-01T13:38:02.256357Z"
    }
   },
   "cell_type": "code",
   "source": [
    "import pandas as pd\n",
    "import numpy as np\n",
    "import matplotlib.pyplot as plt"
   ],
   "id": "initial_id",
   "outputs": [],
   "execution_count": 1
  },
  {
   "metadata": {
    "ExecuteTime": {
     "end_time": "2024-11-01T13:38:03.909930Z",
     "start_time": "2024-11-01T13:38:03.113220Z"
    }
   },
   "cell_type": "code",
   "source": [
    "smpDir = './00_prepTopoOptimData/'\n",
    "prbDir = \"topoOptim/\"\n",
    "dataNm = \"feasibleSolutions.csv\"\n",
    "dataPath = smpDir + prbDir + dataNm\n",
    "\n",
    "df = pd.read_csv(dataPath)"
   ],
   "id": "6b4555577bce93f4",
   "outputs": [],
   "execution_count": 2
  },
  {
   "metadata": {
    "ExecuteTime": {
     "end_time": "2024-11-01T13:38:04.066991Z",
     "start_time": "2024-11-01T13:38:04.063589Z"
    }
   },
   "cell_type": "code",
   "source": "df.shape",
   "id": "51a1d2b62d19fec6",
   "outputs": [
    {
     "data": {
      "text/plain": [
       "(23792, 1122)"
      ]
     },
     "execution_count": 3,
     "metadata": {},
     "output_type": "execute_result"
    }
   ],
   "execution_count": 3
  },
  {
   "metadata": {
    "ExecuteTime": {
     "end_time": "2024-11-01T13:38:04.137291Z",
     "start_time": "2024-11-01T13:38:04.126467Z"
    }
   },
   "cell_type": "code",
   "source": "df.head()",
   "id": "46a27185e05a60c2",
   "outputs": [
    {
     "data": {
      "text/plain": [
       "   bit  bit.1  bit.2  bit.3  bit.4  bit.5  bit.6  bit.7  bit.8  bit.9  ...  \\\n",
       "0  0.0    0.0    0.0    0.0    0.0    0.0    0.0    0.0    0.0    0.0  ...   \n",
       "1  0.0    0.0    0.0    0.0    0.0    0.0    0.0    0.0    0.0    0.0  ...   \n",
       "2  0.0    0.0    0.0    0.0    0.0    0.0    0.0    0.0    0.0    0.0  ...   \n",
       "3  0.0    0.0    0.0    0.0    0.0    0.0    0.0    0.0    0.0    0.0  ...   \n",
       "4  0.0    0.0    0.0    0.0    0.0    0.0    0.0    0.0    0.0    0.0  ...   \n",
       "\n",
       "   bit.1112  bit.1113  bit.1114  bit.1115  bit.1116  bit.1117  bit.1118  \\\n",
       "0       0.0       0.0       0.0       0.0       0.0       0.0       0.0   \n",
       "1       0.0       0.0       0.0       0.0       0.0       0.0       0.0   \n",
       "2       0.0       0.0       0.0       0.0       0.0       0.0       0.0   \n",
       "3       0.0       0.0       0.0       0.0       0.0       0.0       0.0   \n",
       "4       0.0       0.0       0.0       0.0       0.0       0.0       0.0   \n",
       "\n",
       "   bit.1119  pressureRecoveryFactor  diffuserLength  \n",
       "0       0.0                0.264373           0.225  \n",
       "1       0.0                0.265390           0.225  \n",
       "2       0.0                0.263384           0.225  \n",
       "3       0.0                0.263055           0.225  \n",
       "4       0.0                0.206773           0.290  \n",
       "\n",
       "[5 rows x 1122 columns]"
      ],
      "text/html": [
       "<div>\n",
       "<style scoped>\n",
       "    .dataframe tbody tr th:only-of-type {\n",
       "        vertical-align: middle;\n",
       "    }\n",
       "\n",
       "    .dataframe tbody tr th {\n",
       "        vertical-align: top;\n",
       "    }\n",
       "\n",
       "    .dataframe thead th {\n",
       "        text-align: right;\n",
       "    }\n",
       "</style>\n",
       "<table border=\"1\" class=\"dataframe\">\n",
       "  <thead>\n",
       "    <tr style=\"text-align: right;\">\n",
       "      <th></th>\n",
       "      <th>bit</th>\n",
       "      <th>bit.1</th>\n",
       "      <th>bit.2</th>\n",
       "      <th>bit.3</th>\n",
       "      <th>bit.4</th>\n",
       "      <th>bit.5</th>\n",
       "      <th>bit.6</th>\n",
       "      <th>bit.7</th>\n",
       "      <th>bit.8</th>\n",
       "      <th>bit.9</th>\n",
       "      <th>...</th>\n",
       "      <th>bit.1112</th>\n",
       "      <th>bit.1113</th>\n",
       "      <th>bit.1114</th>\n",
       "      <th>bit.1115</th>\n",
       "      <th>bit.1116</th>\n",
       "      <th>bit.1117</th>\n",
       "      <th>bit.1118</th>\n",
       "      <th>bit.1119</th>\n",
       "      <th>pressureRecoveryFactor</th>\n",
       "      <th>diffuserLength</th>\n",
       "    </tr>\n",
       "  </thead>\n",
       "  <tbody>\n",
       "    <tr>\n",
       "      <th>0</th>\n",
       "      <td>0.0</td>\n",
       "      <td>0.0</td>\n",
       "      <td>0.0</td>\n",
       "      <td>0.0</td>\n",
       "      <td>0.0</td>\n",
       "      <td>0.0</td>\n",
       "      <td>0.0</td>\n",
       "      <td>0.0</td>\n",
       "      <td>0.0</td>\n",
       "      <td>0.0</td>\n",
       "      <td>...</td>\n",
       "      <td>0.0</td>\n",
       "      <td>0.0</td>\n",
       "      <td>0.0</td>\n",
       "      <td>0.0</td>\n",
       "      <td>0.0</td>\n",
       "      <td>0.0</td>\n",
       "      <td>0.0</td>\n",
       "      <td>0.0</td>\n",
       "      <td>0.264373</td>\n",
       "      <td>0.225</td>\n",
       "    </tr>\n",
       "    <tr>\n",
       "      <th>1</th>\n",
       "      <td>0.0</td>\n",
       "      <td>0.0</td>\n",
       "      <td>0.0</td>\n",
       "      <td>0.0</td>\n",
       "      <td>0.0</td>\n",
       "      <td>0.0</td>\n",
       "      <td>0.0</td>\n",
       "      <td>0.0</td>\n",
       "      <td>0.0</td>\n",
       "      <td>0.0</td>\n",
       "      <td>...</td>\n",
       "      <td>0.0</td>\n",
       "      <td>0.0</td>\n",
       "      <td>0.0</td>\n",
       "      <td>0.0</td>\n",
       "      <td>0.0</td>\n",
       "      <td>0.0</td>\n",
       "      <td>0.0</td>\n",
       "      <td>0.0</td>\n",
       "      <td>0.265390</td>\n",
       "      <td>0.225</td>\n",
       "    </tr>\n",
       "    <tr>\n",
       "      <th>2</th>\n",
       "      <td>0.0</td>\n",
       "      <td>0.0</td>\n",
       "      <td>0.0</td>\n",
       "      <td>0.0</td>\n",
       "      <td>0.0</td>\n",
       "      <td>0.0</td>\n",
       "      <td>0.0</td>\n",
       "      <td>0.0</td>\n",
       "      <td>0.0</td>\n",
       "      <td>0.0</td>\n",
       "      <td>...</td>\n",
       "      <td>0.0</td>\n",
       "      <td>0.0</td>\n",
       "      <td>0.0</td>\n",
       "      <td>0.0</td>\n",
       "      <td>0.0</td>\n",
       "      <td>0.0</td>\n",
       "      <td>0.0</td>\n",
       "      <td>0.0</td>\n",
       "      <td>0.263384</td>\n",
       "      <td>0.225</td>\n",
       "    </tr>\n",
       "    <tr>\n",
       "      <th>3</th>\n",
       "      <td>0.0</td>\n",
       "      <td>0.0</td>\n",
       "      <td>0.0</td>\n",
       "      <td>0.0</td>\n",
       "      <td>0.0</td>\n",
       "      <td>0.0</td>\n",
       "      <td>0.0</td>\n",
       "      <td>0.0</td>\n",
       "      <td>0.0</td>\n",
       "      <td>0.0</td>\n",
       "      <td>...</td>\n",
       "      <td>0.0</td>\n",
       "      <td>0.0</td>\n",
       "      <td>0.0</td>\n",
       "      <td>0.0</td>\n",
       "      <td>0.0</td>\n",
       "      <td>0.0</td>\n",
       "      <td>0.0</td>\n",
       "      <td>0.0</td>\n",
       "      <td>0.263055</td>\n",
       "      <td>0.225</td>\n",
       "    </tr>\n",
       "    <tr>\n",
       "      <th>4</th>\n",
       "      <td>0.0</td>\n",
       "      <td>0.0</td>\n",
       "      <td>0.0</td>\n",
       "      <td>0.0</td>\n",
       "      <td>0.0</td>\n",
       "      <td>0.0</td>\n",
       "      <td>0.0</td>\n",
       "      <td>0.0</td>\n",
       "      <td>0.0</td>\n",
       "      <td>0.0</td>\n",
       "      <td>...</td>\n",
       "      <td>0.0</td>\n",
       "      <td>0.0</td>\n",
       "      <td>0.0</td>\n",
       "      <td>0.0</td>\n",
       "      <td>0.0</td>\n",
       "      <td>0.0</td>\n",
       "      <td>0.0</td>\n",
       "      <td>0.0</td>\n",
       "      <td>0.206773</td>\n",
       "      <td>0.290</td>\n",
       "    </tr>\n",
       "  </tbody>\n",
       "</table>\n",
       "<p>5 rows × 1122 columns</p>\n",
       "</div>"
      ]
     },
     "execution_count": 4,
     "metadata": {},
     "output_type": "execute_result"
    }
   ],
   "execution_count": 4
  },
  {
   "metadata": {
    "ExecuteTime": {
     "end_time": "2024-11-01T13:38:04.367764Z",
     "start_time": "2024-11-01T13:38:04.305593Z"
    }
   },
   "cell_type": "code",
   "source": [
    "import random\n",
    "\n",
    "# get a random row\n",
    "example = df.iloc[random.randint(0, df.shape[0])]\n",
    "example = example.drop(['pressureRecoveryFactor', 'diffuserLength'])\n",
    "rows = 7\n",
    "example = np.array(example).reshape(rows, -1)\n",
    "# make plot wider\n",
    "plt.figure(figsize=(16, 2))\n",
    "plt.imshow(example)"
   ],
   "id": "be424e5990928105",
   "outputs": [
    {
     "data": {
      "text/plain": [
       "<matplotlib.image.AxesImage at 0x14c58d790>"
      ]
     },
     "execution_count": 5,
     "metadata": {},
     "output_type": "execute_result"
    },
    {
     "data": {
      "text/plain": [
       "<Figure size 1600x200 with 1 Axes>"
      ],
      "image/png": "[encoded data removed]"
     },
     "metadata": {},
     "output_type": "display_data"
    }
   ],
   "execution_count": 5
  },
  {
   "metadata": {
    "ExecuteTime": {
     "end_time": "2024-11-01T13:38:04.821155Z",
     "start_time": "2024-11-01T13:38:04.660308Z"
    }
   },
   "cell_type": "code",
   "source": "df.duplicated().sum()",
   "id": "147435897013684d",
   "outputs": [
    {
     "data": {
      "text/plain": [
       "14211"
      ]
     },
     "execution_count": 6,
     "metadata": {},
     "output_type": "execute_result"
    }
   ],
   "execution_count": 6
  },
  {
   "metadata": {
    "ExecuteTime": {
     "end_time": "2024-11-01T13:38:05.872888Z",
     "start_time": "2024-11-01T13:38:05.680881Z"
    }
   },
   "cell_type": "code",
   "source": "df.drop_duplicates(inplace=True)",
   "id": "c375898357ad4273",
   "outputs": [],
   "execution_count": 7
  },
  {
   "metadata": {
    "ExecuteTime": {
     "end_time": "2024-11-01T13:38:05.900538Z",
     "start_time": "2024-11-01T13:38:05.897836Z"
    }
   },
   "cell_type": "code",
   "source": [
    "data_shape = example.shape\n",
    "data_shape"
   ],
   "id": "e0706390f6969ed2",
   "outputs": [
    {
     "data": {
      "text/plain": [
       "(7, 160)"
      ]
     },
     "execution_count": 8,
     "metadata": {},
     "output_type": "execute_result"
    }
   ],
   "execution_count": 8
  },
  {
   "metadata": {
    "ExecuteTime": {
     "end_time": "2024-11-01T13:38:05.916444Z",
     "start_time": "2024-11-01T13:38:05.914011Z"
    }
   },
   "cell_type": "code",
   "source": [
    "data_shape = (data_shape[0], data_shape[1], 1)\n",
    "data_shape"
   ],
   "id": "e8a29a6229d35484",
   "outputs": [
    {
     "data": {
      "text/plain": [
       "(7, 160, 1)"
      ]
     },
     "execution_count": 9,
     "metadata": {},
     "output_type": "execute_result"
    }
   ],
   "execution_count": 9
  },
  {
   "metadata": {
    "ExecuteTime": {
     "end_time": "2024-11-01T13:38:08.460476Z",
     "start_time": "2024-11-01T13:38:05.927073Z"
    }
   },
   "cell_type": "code",
   "source": [
    "import tensorflow as tf\n",
    "from tensorflow.keras.models import Sequential\n",
    "from tensorflow.keras.layers import Dense, Flatten, Conv2D, MaxPooling2D, Dropout, InputLayer\n",
    "from tensorflow.keras.optimizers.legacy import Adam\n",
    "from tensorflow.keras.callbacks import EarlyStopping\n",
    "from tensorflow.keras.metrics import RootMeanSquaredError"
   ],
   "id": "b869fe9a9f4cde41",
   "outputs": [],
   "execution_count": 10
  },
  {
   "metadata": {
    "ExecuteTime": {
     "end_time": "2024-11-01T13:38:08.473968Z",
     "start_time": "2024-11-01T13:38:08.471387Z"
    }
   },
   "cell_type": "code",
   "source": [
    "# create a model\n",
    "def get_model(data_shape):\n",
    "    model = Sequential()\n",
    "    model.add(Conv2D(32, kernel_size=(3, 5), activation='relu', padding='same', input_shape=data_shape))\n",
    "    model.add(MaxPooling2D(pool_size=(1, 2), padding='same'))\n",
    "    model.add(Conv2D(64, kernel_size=(3, 5), activation='relu', padding='same'))\n",
    "    model.add(MaxPooling2D(pool_size=(1, 2), padding='same'))\n",
    "    model.add(Flatten())\n",
    "    model.add(Dense(128, activation='relu'))\n",
    "    model.add(Dense(64, activation='relu'))\n",
    "    model.add(Dense(2, activation='linear'))\n",
    "    return model\n"
   ],
   "id": "63f3ebc0631f79ac",
   "outputs": [],
   "execution_count": 11
  },
  {
   "metadata": {
    "ExecuteTime": {
     "end_time": "2024-11-01T13:38:53.200534Z",
     "start_time": "2024-11-01T13:38:08.483844Z"
    }
   },
   "cell_type": "code",
   "source": [
    "model = get_model(data_shape)\n",
    "model.compile(loss='mse', optimizer=Adam(), metrics=[RootMeanSquaredError()])\n",
    "display(model.summary())\n",
    "\n",
    "# train model\n",
    "early_stopping = EarlyStopping(monitor='loss', patience=3)\n",
    "X, y = df.drop(['pressureRecoveryFactor', 'diffuserLength'], axis=1), df[['pressureRecoveryFactor', 'diffuserLength']]\n",
    "\n",
    "from sklearn.model_selection import train_test_split\n",
    "X_train, X_val, y_train, y_val = train_test_split(X, y, test_size=0.3)\n",
    "\n",
    "X_train = np.array(X_train).reshape(-1, data_shape[0], data_shape[1], data_shape[2])\n",
    "X_val = np.array(X_val).reshape(-1, data_shape[0], data_shape[1], data_shape[2])\n",
    "\n",
    "history = model.fit(X_train, y_train, epochs=10, batch_size=64, callbacks=[early_stopping], validation_data=(X_val, y_val))"
   ],
   "id": "7d75f3e26277f013",
   "outputs": [
    {
     "name": "stdout",
     "output_type": "stream",
     "text": [
      "Model: \"sequential\"\n",
      "_________________________________________________________________\n",
      " Layer (type)                Output Shape              Param #   \n",
      "=================================================================\n",
      " conv2d (Conv2D)             (None, 7, 160, 32)        512       \n",
      "                                                                 \n",
      " max_pooling2d (MaxPooling2  (None, 7, 80, 32)         0         \n",
      " D)                                                              \n",
      "                                                                 \n",
      " conv2d_1 (Conv2D)           (None, 7, 80, 64)         30784     \n",
      "                                                                 \n",
      " max_pooling2d_1 (MaxPoolin  (None, 7, 40, 64)         0         \n",
      " g2D)                                                            \n",
      "                                                                 \n",
      " flatten (Flatten)           (None, 17920)             0         \n",
      "                                                                 \n",
      " dense (Dense)               (None, 128)               2293888   \n",
      "                                                                 \n",
      " dense_1 (Dense)             (None, 64)                8256      \n",
      "                                                                 \n",
      " dense_2 (Dense)             (None, 2)                 130       \n",
      "                                                                 \n",
      "=================================================================\n",
      "Total params: 2333570 (8.90 MB)\n",
      "Trainable params: 2333570 (8.90 MB)\n",
      "Non-trainable params: 0 (0.00 Byte)\n",
      "_________________________________________________________________\n"
     ]
    },
    {
     "data": {
      "text/plain": [
       "None"
      ]
     },
     "metadata": {},
     "output_type": "display_data"
    },
    {
     "name": "stdout",
     "output_type": "stream",
     "text": [
      "Epoch 1/10\n",
      "105/105 [==============================] - 5s 42ms/step - loss: 0.0023 - root_mean_squared_error: 0.0478 - val_loss: 1.6287e-04 - val_root_mean_squared_error: 0.0128\n",
      "Epoch 2/10\n",
      "105/105 [==============================] - 4s 42ms/step - loss: 1.0475e-04 - root_mean_squared_error: 0.0102 - val_loss: 4.7018e-05 - val_root_mean_squared_error: 0.0069\n",
      "Epoch 3/10\n",
      "105/105 [==============================] - 5s 47ms/step - loss: 3.4765e-05 - root_mean_squared_error: 0.0059 - val_loss: 2.6084e-05 - val_root_mean_squared_error: 0.0051\n",
      "Epoch 4/10\n",
      "105/105 [==============================] - 5s 44ms/step - loss: 1.9218e-05 - root_mean_squared_error: 0.0044 - val_loss: 4.9655e-05 - val_root_mean_squared_error: 0.0070\n",
      "Epoch 5/10\n",
      "105/105 [==============================] - 4s 39ms/step - loss: 1.3317e-05 - root_mean_squared_error: 0.0036 - val_loss: 1.7758e-05 - val_root_mean_squared_error: 0.0042\n",
      "Epoch 6/10\n",
      "105/105 [==============================] - 4s 39ms/step - loss: 8.3289e-06 - root_mean_squared_error: 0.0029 - val_loss: 1.0888e-05 - val_root_mean_squared_error: 0.0033\n",
      "Epoch 7/10\n",
      "105/105 [==============================] - 4s 39ms/step - loss: 7.1545e-06 - root_mean_squared_error: 0.0027 - val_loss: 9.4374e-06 - val_root_mean_squared_error: 0.0031\n",
      "Epoch 8/10\n",
      "105/105 [==============================] - 4s 40ms/step - loss: 6.5844e-06 - root_mean_squared_error: 0.0026 - val_loss: 9.9031e-06 - val_root_mean_squared_error: 0.0031\n",
      "Epoch 9/10\n",
      "105/105 [==============================] - 4s 41ms/step - loss: 8.9592e-06 - root_mean_squared_error: 0.0030 - val_loss: 1.6604e-05 - val_root_mean_squared_error: 0.0041\n",
      "Epoch 10/10\n",
      "105/105 [==============================] - 4s 42ms/step - loss: 9.4466e-06 - root_mean_squared_error: 0.0031 - val_loss: 8.1564e-06 - val_root_mean_squared_error: 0.0029\n"
     ]
    }
   ],
   "execution_count": 12
  },
  {
   "metadata": {
    "ExecuteTime": {
     "end_time": "2024-11-01T13:38:53.258619Z",
     "start_time": "2024-11-01T13:38:53.222122Z"
    }
   },
   "cell_type": "code",
   "source": "model.save('topOptimModel.keras')",
   "id": "b2abff9e14fac315",
   "outputs": [],
   "execution_count": 13
  },
  {
   "metadata": {
    "ExecuteTime": {
     "end_time": "2024-11-01T13:38:53.937434Z",
     "start_time": "2024-11-01T13:38:53.278242Z"
    }
   },
   "cell_type": "code",
   "source": [
    "loss = model.evaluate(X_val, y_val)\n",
    "loss"
   ],
   "id": "980eb07423107514",
   "outputs": [
    {
     "name": "stdout",
     "output_type": "stream",
     "text": [
      "90/90 [==============================] - 1s 7ms/step - loss: 8.1564e-06 - root_mean_squared_error: 0.0029\n"
     ]
    },
    {
     "data": {
      "text/plain": [
       "[8.156444891938008e-06, 0.002855949103832245]"
      ]
     },
     "execution_count": 14,
     "metadata": {},
     "output_type": "execute_result"
    }
   ],
   "execution_count": 14
  },
  {
   "metadata": {
    "ExecuteTime": {
     "end_time": "2024-11-01T13:38:54.254460Z",
     "start_time": "2024-11-01T13:38:54.000994Z"
    }
   },
   "cell_type": "code",
   "source": [
    "# plot loss\n",
    "plt.yscale('log')\n",
    "plt.plot(history.history['loss'])\n",
    "plt.plot(history.history['val_loss'])"
   ],
   "id": "a4fc297370955f40",
   "outputs": [
    {
     "data": {
      "text/plain": [
       "[<matplotlib.lines.Line2D at 0x330276090>]"
      ]
     },
     "execution_count": 15,
     "metadata": {},
     "output_type": "execute_result"
    },
    {
     "data": {
      "text/plain": [
       "<Figure size 640x480 with 1 Axes>"
      ],
      "image/png": "[encoded data removed]"
     },
     "metadata": {},
     "output_type": "display_data"
    }
   ],
   "execution_count": 15
  },
  {
   "metadata": {
    "ExecuteTime": {
     "end_time": "2024-11-01T13:38:55.079901Z",
     "start_time": "2024-11-01T13:38:54.274068Z"
    }
   },
   "cell_type": "code",
   "source": [
    "y_pred = model.predict(X_val)\n",
    "\n",
    "fig, (ax1, ax2) = plt.subplots(1, 2, figsize=(12, 5))\n",
    "ax1.scatter(y_val['pressureRecoveryFactor'], y_pred[:, 0])\n",
    "ax1.set_xlabel('True Values [Pressure Recovery Factor]')\n",
    "ax1.set_ylabel('Predictions [Pressure Recovery Factor]')\n",
    "ax1.axis('equal')\n",
    "ax1.axis('square')\n",
    "ax1.set_xlim([0, ax1.get_xlim()[1]])\n",
    "ax1.set_ylim([0, ax1.get_ylim()[1]])\n",
    "ax1.plot([-100, 100], [-100, 100], color='red')\n",
    "\n",
    "ax2.scatter(y_val['diffuserLength'], y_pred[:, 1])\n",
    "ax2.set_xlabel('True Values [Diffuser Length]')\n",
    "ax2.set_ylabel('Predictions [Diffuser Length]')\n",
    "ax2.axis('equal')\n",
    "ax2.axis('square')\n",
    "ax2.set_xlim([0, ax2.get_xlim()[1]])\n",
    "ax2.set_ylim([0, ax2.get_ylim()[1]])\n",
    "ax2.plot([-100, 100], [-100, 100], color='red')"
   ],
   "id": "e4d9e227e42f2c73",
   "outputs": [
    {
     "name": "stdout",
     "output_type": "stream",
     "text": [
      "90/90 [==============================] - 1s 7ms/step\n"
     ]
    },
    {
     "data": {
      "text/plain": [
       "[<matplotlib.lines.Line2D at 0x31390cd50>]"
      ]
     },
     "execution_count": 16,
     "metadata": {},
     "output_type": "execute_result"
    },
    {
     "data": {
      "text/plain": [
       "<Figure size 1200x500 with 2 Axes>"
      ],
      "image/png": "[encoded data removed]"
     },
     "metadata": {},
     "output_type": "display_data"
    }
   ],
   "execution_count": 16
  },
  {
   "metadata": {
    "ExecuteTime": {
     "end_time": "2024-11-01T13:38:55.103134Z",
     "start_time": "2024-11-01T13:38:55.101403Z"
    }
   },
   "cell_type": "code",
   "source": "",
   "id": "f609998529f689e7",
   "outputs": [],
   "execution_count": null
  }
 ],
 "metadata": {
  "kernelspec": {
   "display_name": "Python 3",
   "language": "python",
   "name": "python3"
  },
  "language_info": {
   "codemirror_mode": {
    "name": "ipython",
    "version": 2
   },
   "file_extension": ".py",
   "mimetype": "text/x-python",
   "name": "python",
   "nbconvert_exporter": "python",
   "pygments_lexer": "ipython2",
   "version": "2.7.6"
  }
 },
 "nbformat": 4,
 "nbformat_minor": 5
}
